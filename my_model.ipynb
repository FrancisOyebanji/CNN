{
  "nbformat": 4,
  "nbformat_minor": 0,
  "metadata": {
    "colab": {
      "provenance": [],
      "toc_visible": true
    },
    "kernelspec": {
      "name": "python3",
      "display_name": "Python 3"
    },
    "language_info": {
      "name": "python"
    }
  },
  "cells": [
    {
      "cell_type": "code",
      "execution_count": 2,
      "metadata": {
        "id": "Au_DDE2oRXpa"
      },
      "outputs": [],
      "source": [
        "from torch.nn.modules.batchnorm import BatchNorm2d\n",
        "from torch.nn.modules.conv import Conv2d\n",
        "import torch.nn as nn\n",
        "import torchvision.transforms.functional as TF\n",
        "\n",
        "class DoubleConv(nn.Module):\n",
        "  def __init__(self, in_channels, out_channels):\n",
        "    super(DoubleConv, self).__init__(*args, **kwargs)\n",
        "    self.conv = nn.Sequential(\n",
        "        nn.Conv2d(in_channels, out_channels, 3, 1, 1, bias= False), # kernel size, strides, padding\n",
        "        nn.BatchNorm2d(out_channels),\n",
        "        nn.ReLU(inplace=True), # try \"T\"\n",
        "        nn.Conv2d(out_channels, out_channels, 3, 1, 1, bias = False),\n",
        "        nn.BatchNorm2d(out_channels),\n",
        "        nn.ReLU(inplace = True),\n",
        "    )"
      ]
    },
    {
      "cell_type": "code",
      "source": [
        "def forward     "
      ],
      "metadata": {
        "id": "oD63injUWHYk"
      },
      "execution_count": null,
      "outputs": []
    },
    {
      "cell_type": "markdown",
      "source": [
        "# New Section"
      ],
      "metadata": {
        "id": "FK9HjUXEBWT7"
      }
    }
  ]
}